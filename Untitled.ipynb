{
 "cells": [
  {
   "cell_type": "code",
   "execution_count": 1,
   "id": "cd8e9595-755d-4a7f-b33a-67ebb134d831",
   "metadata": {},
   "outputs": [
    {
     "name": "stdout",
     "output_type": "stream",
     "text": [
      "[1, 3, 5, 7, 9, 11, 13, 15, 17, 19, 21, 23, 25]\n"
     ]
    }
   ],
   "source": [
    "#Question1: Which keyword is used to create a function? Create a function to return a list of odd numbers in the range of 1 to 25.\n",
    "#The keyword used to create a function in Python is def.\n",
    "#Here’s the function to return a list of odd numbers in the range of 1 to 25:\n",
    "def get_odd_numbers():\n",
    "    return [number for number in range(1, 26) if number % 2 != 0]\n",
    "\n",
    "# Testing the function\n",
    "print(get_odd_numbers())\n"
   ]
  },
  {
   "cell_type": "code",
   "execution_count": 2,
   "id": "09345989-a948-46df-8ded-e50ca91ef404",
   "metadata": {},
   "outputs": [
    {
     "name": "stdout",
     "output_type": "stream",
     "text": [
      "15\n"
     ]
    }
   ],
   "source": [
    "#Question2: Why *args and **kwargs are used in some functions? Create a function each for *args and **kwargs to demonstrate their use.\n",
    "#Answer: *args is used to pass a variable number of non-keyword arguments to a function, and **kwargs is used to pass a variable number of keyword arguments.\n",
    "#Example function using *args:\n",
    "def sum_of_numbers(*args):\n",
    "    return sum(args)\n",
    "\n",
    "# Testing the function\n",
    "print(sum_of_numbers(1, 2, 3, 4, 5))  # Output: 15\n"
   ]
  },
  {
   "cell_type": "code",
   "execution_count": 3,
   "id": "708db4ee-463f-4dca-b83b-38b2ff0a1f64",
   "metadata": {},
   "outputs": [
    {
     "name": "stdout",
     "output_type": "stream",
     "text": [
      "name: Alice\n",
      "age: 25\n",
      "city: New York\n"
     ]
    }
   ],
   "source": [
    "#Example function using **kwargs:\n",
    "def print_info(**kwargs):\n",
    "    for key, value in kwargs.items():\n",
    "        print(f\"{key}: {value}\")\n",
    "\n",
    "# Testing the function\n",
    "print_info(name=\"Alice\", age=25, city=\"New York\")\n"
   ]
  },
  {
   "cell_type": "code",
   "execution_count": 5,
   "id": "99912162-4d90-433a-b35f-9adc575aa857",
   "metadata": {},
   "outputs": [
    {
     "name": "stdout",
     "output_type": "stream",
     "text": [
      "2\n",
      "4\n",
      "6\n",
      "8\n",
      "10\n"
     ]
    }
   ],
   "source": [
    "#Question3: What is an iterator in Python? Name the method used to initialize the iterator object and the method used for iteration. Use these methods to print the first five elements of the given list [2, 4, 6, 8, 10, 12, 14, 16, 18, 20].\n",
    "#Answer: An iterator in Python is an object that contains a countable number of values. The method used to initialize the iterator object is __iter__(), and the method used for iteration is __next__().\n",
    "my_list = [2, 4, 6, 8, 10, 12, 14, 16, 18, 20]\n",
    "iterator = iter(my_list)\n",
    "\n",
    "for _ in range(5):\n",
    "    print(next(iterator))\n"
   ]
  },
  {
   "cell_type": "code",
   "execution_count": 6,
   "id": "de4aef38-57bb-4eaa-b952-ffdc214b16f4",
   "metadata": {},
   "outputs": [
    {
     "name": "stdout",
     "output_type": "stream",
     "text": [
      "1\n",
      "2\n",
      "3\n"
     ]
    }
   ],
   "source": [
    "#Question4: What is a generator function in Python? Why is the yield keyword used? Give an example of a generator function.\n",
    "#Answer: A generator function is a function that returns an iterator that produces a sequence of values. The yield keyword is used to produce a value and pause the function's state, allowing it to resume where it left off.\n",
    "#Example generator function:\n",
    "def simple_generator():\n",
    "    yield 1\n",
    "    yield 2\n",
    "    yield 3\n",
    "\n",
    "# Testing the generator\n",
    "gen = simple_generator()\n",
    "print(next(gen))  # Output: 1\n",
    "print(next(gen))  # Output: 2\n",
    "print(next(gen))  # Output: 3\n"
   ]
  },
  {
   "cell_type": "code",
   "execution_count": 9,
   "id": "546afca7-40b9-438c-bab6-a5dda529207e",
   "metadata": {},
   "outputs": [
    {
     "name": "stdout",
     "output_type": "stream",
     "text": [
      "2\n",
      "3\n",
      "5\n",
      "7\n",
      "11\n",
      "13\n",
      "17\n",
      "19\n",
      "23\n",
      "29\n",
      "31\n",
      "37\n",
      "41\n",
      "43\n",
      "47\n",
      "53\n",
      "59\n",
      "61\n",
      "67\n",
      "71\n"
     ]
    }
   ],
   "source": [
    "#Question5: Create a generator function for prime numbers less than 1000. Use the next() method to print the first 20 prime numbers.\n",
    "#Answer:\n",
    "def is_prime(num):\n",
    "    if num < 2:\n",
    "        return False\n",
    "    for i in range(2, int(num**0.5) + 1):\n",
    "        if num % i == 0:\n",
    "            return False\n",
    "    return True\n",
    "\n",
    "def prime_generator():\n",
    "    num = 2\n",
    "    while num < 1000:\n",
    "        if is_prime(num):\n",
    "            yield num\n",
    "        num += 1\n",
    "\n",
    "# Testing the generator\n",
    "gen = prime_generator()\n",
    "for _ in range(20):\n",
    "    print(next(gen))\n"
   ]
  },
  {
   "cell_type": "code",
   "execution_count": 10,
   "id": "c77ed6fb-d186-4090-9d08-5c0362c1842c",
   "metadata": {},
   "outputs": [
    {
     "name": "stdout",
     "output_type": "stream",
     "text": [
      "0\n",
      "1\n",
      "1\n",
      "2\n",
      "3\n",
      "5\n",
      "8\n",
      "13\n",
      "21\n",
      "34\n"
     ]
    }
   ],
   "source": [
    "#Question6: Write a Python program to print the first 10 Fibonacci numbers using a while loop.\n",
    "#Answer:\n",
    "a, b = 0, 1\n",
    "count = 0\n",
    "while count < 10:\n",
    "    print(a)\n",
    "    a, b = b, a + b\n",
    "    count += 1\n"
   ]
  },
  {
   "cell_type": "code",
   "execution_count": 11,
   "id": "7deda95f-5545-4c33-8555-fda244cfb70a",
   "metadata": {},
   "outputs": [
    {
     "name": "stdout",
     "output_type": "stream",
     "text": [
      "['p', 'w', 's', 'k', 'i', 'l', 'l', 's']\n"
     ]
    }
   ],
   "source": [
    "#Question7: Write a List Comprehension to iterate through the given string: ‘pwskills’. Expected output: ['p', 'w', 's', 'k', 'i', 'l', 'l', 's']\n",
    "#Answer:\n",
    "string = \"pwskills\"\n",
    "output = [char for char in string if char in \"pwskills\"]\n",
    "print(output)\n"
   ]
  },
  {
   "cell_type": "code",
   "execution_count": 12,
   "id": "4b14e7e9-fe98-4a29-b9a2-9db418b2c0cc",
   "metadata": {},
   "outputs": [
    {
     "name": "stdout",
     "output_type": "stream",
     "text": [
      "True\n"
     ]
    }
   ],
   "source": [
    "#Question8: Write a Python program to check whether a given number is a palindrome or not using a while loop.\n",
    "#Answer:\n",
    "def is_palindrome(number):\n",
    "    original = number\n",
    "    reverse = 0\n",
    "    while number > 0:\n",
    "        reverse = reverse * 10 + number % 10\n",
    "        number = number // 10\n",
    "    return original == reverse\n",
    "\n",
    "# Testing the function\n",
    "num = 121\n",
    "print(is_palindrome(num))  # Output: True\n"
   ]
  },
  {
   "cell_type": "code",
   "execution_count": 13,
   "id": "ed6517fd-5d41-4932-99e2-786b02eb8423",
   "metadata": {},
   "outputs": [
    {
     "name": "stdout",
     "output_type": "stream",
     "text": [
      "[1, 3, 5, 7, 9, 11, 13, 15, 17, 19, 21, 23, 25, 27, 29, 31, 33, 35, 37, 39, 41, 43, 45, 47, 49, 51, 53, 55, 57, 59, 61, 63, 65, 67, 69, 71, 73, 75, 77, 79, 81, 83, 85, 87, 89, 91, 93, 95, 97, 99]\n"
     ]
    }
   ],
   "source": [
    "#Question9: Write a code to print odd numbers from 1 to 100 using list comprehension. Note: Use a list comprehension to create a list from 1 to 100 and use another list comprehension to filter out odd numbers.\n",
    "#Answer:\n",
    "numbers = [i for i in range(1, 101)]\n",
    "odd_numbers = [num for num in numbers if num % 2 != 0]\n",
    "print(odd_numbers)\n"
   ]
  },
  {
   "cell_type": "code",
   "execution_count": null,
   "id": "2da18b43-9161-4eef-88c2-e7382448fdb6",
   "metadata": {},
   "outputs": [],
   "source": []
  }
 ],
 "metadata": {
  "kernelspec": {
   "display_name": "Python 3 (ipykernel)",
   "language": "python",
   "name": "python3"
  },
  "language_info": {
   "codemirror_mode": {
    "name": "ipython",
    "version": 3
   },
   "file_extension": ".py",
   "mimetype": "text/x-python",
   "name": "python",
   "nbconvert_exporter": "python",
   "pygments_lexer": "ipython3",
   "version": "3.10.8"
  }
 },
 "nbformat": 4,
 "nbformat_minor": 5
}
